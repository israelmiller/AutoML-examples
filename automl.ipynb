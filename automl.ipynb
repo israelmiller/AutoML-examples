{
 "cells": [
  {
   "cell_type": "code",
   "execution_count": 1,
   "metadata": {},
   "outputs": [
    {
     "name": "stdout",
     "output_type": "stream",
     "text": [
      "Requirement already satisfied: tpot in /Users/israelmiller/opt/anaconda3/lib/python3.9/site-packages (0.11.7)\n",
      "Requirement already satisfied: numpy>=1.16.3 in /Users/israelmiller/opt/anaconda3/lib/python3.9/site-packages (from tpot) (1.21.5)\n",
      "Requirement already satisfied: xgboost>=1.1.0 in /Users/israelmiller/opt/anaconda3/lib/python3.9/site-packages (from tpot) (1.7.1)\n",
      "Requirement already satisfied: update-checker>=0.16 in /Users/israelmiller/opt/anaconda3/lib/python3.9/site-packages (from tpot) (0.18.0)\n",
      "Requirement already satisfied: pandas>=0.24.2 in /Users/israelmiller/opt/anaconda3/lib/python3.9/site-packages (from tpot) (1.4.2)\n",
      "Requirement already satisfied: tqdm>=4.36.1 in /Users/israelmiller/opt/anaconda3/lib/python3.9/site-packages (from tpot) (4.64.0)\n",
      "Requirement already satisfied: deap>=1.2 in /Users/israelmiller/opt/anaconda3/lib/python3.9/site-packages (from tpot) (1.3.3)\n",
      "Requirement already satisfied: scipy>=1.3.1 in /Users/israelmiller/opt/anaconda3/lib/python3.9/site-packages (from tpot) (1.7.3)\n",
      "Requirement already satisfied: scikit-learn>=0.22.0 in /Users/israelmiller/opt/anaconda3/lib/python3.9/site-packages (from tpot) (1.1.2)\n",
      "Requirement already satisfied: joblib>=0.13.2 in /Users/israelmiller/opt/anaconda3/lib/python3.9/site-packages (from tpot) (1.1.0)\n",
      "Requirement already satisfied: stopit>=1.1.1 in /Users/israelmiller/opt/anaconda3/lib/python3.9/site-packages (from tpot) (1.1.2)\n",
      "Requirement already satisfied: python-dateutil>=2.8.1 in /Users/israelmiller/opt/anaconda3/lib/python3.9/site-packages (from pandas>=0.24.2->tpot) (2.8.2)\n",
      "Requirement already satisfied: pytz>=2020.1 in /Users/israelmiller/opt/anaconda3/lib/python3.9/site-packages (from pandas>=0.24.2->tpot) (2021.3)\n",
      "Requirement already satisfied: threadpoolctl>=2.0.0 in /Users/israelmiller/opt/anaconda3/lib/python3.9/site-packages (from scikit-learn>=0.22.0->tpot) (2.2.0)\n",
      "Requirement already satisfied: requests>=2.3.0 in /Users/israelmiller/opt/anaconda3/lib/python3.9/site-packages (from update-checker>=0.16->tpot) (2.27.1)\n",
      "Requirement already satisfied: six>=1.5 in /Users/israelmiller/opt/anaconda3/lib/python3.9/site-packages (from python-dateutil>=2.8.1->pandas>=0.24.2->tpot) (1.16.0)\n",
      "Requirement already satisfied: certifi>=2017.4.17 in /Users/israelmiller/opt/anaconda3/lib/python3.9/site-packages (from requests>=2.3.0->update-checker>=0.16->tpot) (2022.9.24)\n",
      "Requirement already satisfied: urllib3<1.27,>=1.21.1 in /Users/israelmiller/opt/anaconda3/lib/python3.9/site-packages (from requests>=2.3.0->update-checker>=0.16->tpot) (1.26.9)\n",
      "Requirement already satisfied: charset-normalizer~=2.0.0 in /Users/israelmiller/opt/anaconda3/lib/python3.9/site-packages (from requests>=2.3.0->update-checker>=0.16->tpot) (2.0.4)\n",
      "Requirement already satisfied: idna<4,>=2.5 in /Users/israelmiller/opt/anaconda3/lib/python3.9/site-packages (from requests>=2.3.0->update-checker>=0.16->tpot) (3.3)\n",
      "Requirement already satisfied: mljar-supervised in /Users/israelmiller/opt/anaconda3/lib/python3.9/site-packages (0.11.3)\n",
      "Requirement already satisfied: optuna>=2.7.0 in /Users/israelmiller/opt/anaconda3/lib/python3.9/site-packages (from mljar-supervised) (3.0.3)\n",
      "Requirement already satisfied: numpy>=1.19.5 in /Users/israelmiller/opt/anaconda3/lib/python3.9/site-packages (from mljar-supervised) (1.21.5)\n",
      "Requirement already satisfied: typing-extensions in /Users/israelmiller/opt/anaconda3/lib/python3.9/site-packages (from mljar-supervised) (4.1.1)\n",
      "Requirement already satisfied: shap>=0.36.0 in /Users/israelmiller/opt/anaconda3/lib/python3.9/site-packages (from mljar-supervised) (0.41.0)\n",
      "Requirement already satisfied: scikit-plot==0.3.7 in /Users/israelmiller/opt/anaconda3/lib/python3.9/site-packages (from mljar-supervised) (0.3.7)\n",
      "Requirement already satisfied: xgboost>=1.3.3 in /Users/israelmiller/opt/anaconda3/lib/python3.9/site-packages (from mljar-supervised) (1.7.1)\n",
      "Requirement already satisfied: pandas>=1.2.0 in /Users/israelmiller/opt/anaconda3/lib/python3.9/site-packages (from mljar-supervised) (1.4.2)\n",
      "Requirement already satisfied: tabulate>=0.8.7 in /Users/israelmiller/opt/anaconda3/lib/python3.9/site-packages (from mljar-supervised) (0.8.10)\n",
      "Requirement already satisfied: category-encoders>=2.2.2 in /Users/israelmiller/opt/anaconda3/lib/python3.9/site-packages (from mljar-supervised) (2.5.1.post0)\n",
      "Requirement already satisfied: scipy>=1.6.1 in /Users/israelmiller/opt/anaconda3/lib/python3.9/site-packages (from mljar-supervised) (1.7.3)\n",
      "Requirement already satisfied: seaborn>=0.11.1 in /Users/israelmiller/opt/anaconda3/lib/python3.9/site-packages (from mljar-supervised) (0.11.2)\n",
      "Requirement already satisfied: matplotlib>=3.2.2 in /Users/israelmiller/opt/anaconda3/lib/python3.9/site-packages (from mljar-supervised) (3.5.1)\n",
      "Requirement already satisfied: markdown in /Users/israelmiller/opt/anaconda3/lib/python3.9/site-packages (from mljar-supervised) (3.3.4)\n",
      "Requirement already satisfied: joblib>=1.0.1 in /Users/israelmiller/opt/anaconda3/lib/python3.9/site-packages (from mljar-supervised) (1.1.0)\n",
      "Requirement already satisfied: wordcloud>=1.8.1 in /Users/israelmiller/opt/anaconda3/lib/python3.9/site-packages (from mljar-supervised) (1.8.2.2)\n",
      "Requirement already satisfied: scikit-learn>=1.0 in /Users/israelmiller/opt/anaconda3/lib/python3.9/site-packages (from mljar-supervised) (1.1.2)\n",
      "Requirement already satisfied: catboost>=0.24.4 in /Users/israelmiller/opt/anaconda3/lib/python3.9/site-packages (from mljar-supervised) (1.1.1)\n",
      "Requirement already satisfied: dtreeviz>=1.3.3 in /Users/israelmiller/opt/anaconda3/lib/python3.9/site-packages (from mljar-supervised) (1.4.0)\n",
      "Requirement already satisfied: lightgbm>=3.0.0 in /Users/israelmiller/opt/anaconda3/lib/python3.9/site-packages (from mljar-supervised) (3.3.3)\n",
      "Requirement already satisfied: plotly in /Users/israelmiller/opt/anaconda3/lib/python3.9/site-packages (from catboost>=0.24.4->mljar-supervised) (5.6.0)\n",
      "Requirement already satisfied: six in /Users/israelmiller/opt/anaconda3/lib/python3.9/site-packages (from catboost>=0.24.4->mljar-supervised) (1.16.0)\n",
      "Requirement already satisfied: graphviz in /Users/israelmiller/opt/anaconda3/lib/python3.9/site-packages (from catboost>=0.24.4->mljar-supervised) (0.20.1)\n",
      "Requirement already satisfied: patsy>=0.5.1 in /Users/israelmiller/opt/anaconda3/lib/python3.9/site-packages (from category-encoders>=2.2.2->mljar-supervised) (0.5.2)\n",
      "Requirement already satisfied: statsmodels>=0.9.0 in /Users/israelmiller/opt/anaconda3/lib/python3.9/site-packages (from category-encoders>=2.2.2->mljar-supervised) (0.13.2)\n",
      "Requirement already satisfied: colour in /Users/israelmiller/opt/anaconda3/lib/python3.9/site-packages (from dtreeviz>=1.3.3->mljar-supervised) (0.1.5)\n",
      "Requirement already satisfied: pytest in /Users/israelmiller/opt/anaconda3/lib/python3.9/site-packages (from dtreeviz>=1.3.3->mljar-supervised) (7.1.1)\n",
      "Requirement already satisfied: wheel in /Users/israelmiller/opt/anaconda3/lib/python3.9/site-packages (from lightgbm>=3.0.0->mljar-supervised) (0.37.1)\n",
      "Requirement already satisfied: python-dateutil>=2.7 in /Users/israelmiller/opt/anaconda3/lib/python3.9/site-packages (from matplotlib>=3.2.2->mljar-supervised) (2.8.2)\n",
      "Requirement already satisfied: cycler>=0.10 in /Users/israelmiller/opt/anaconda3/lib/python3.9/site-packages (from matplotlib>=3.2.2->mljar-supervised) (0.11.0)\n",
      "Requirement already satisfied: packaging>=20.0 in /Users/israelmiller/opt/anaconda3/lib/python3.9/site-packages (from matplotlib>=3.2.2->mljar-supervised) (21.3)\n",
      "Requirement already satisfied: fonttools>=4.22.0 in /Users/israelmiller/opt/anaconda3/lib/python3.9/site-packages (from matplotlib>=3.2.2->mljar-supervised) (4.25.0)\n",
      "Requirement already satisfied: kiwisolver>=1.0.1 in /Users/israelmiller/opt/anaconda3/lib/python3.9/site-packages (from matplotlib>=3.2.2->mljar-supervised) (1.3.2)\n",
      "Requirement already satisfied: pyparsing>=2.2.1 in /Users/israelmiller/opt/anaconda3/lib/python3.9/site-packages (from matplotlib>=3.2.2->mljar-supervised) (3.0.4)\n",
      "Requirement already satisfied: pillow>=6.2.0 in /Users/israelmiller/opt/anaconda3/lib/python3.9/site-packages (from matplotlib>=3.2.2->mljar-supervised) (9.0.1)\n",
      "Requirement already satisfied: colorlog in /Users/israelmiller/opt/anaconda3/lib/python3.9/site-packages (from optuna>=2.7.0->mljar-supervised) (6.7.0)\n",
      "Requirement already satisfied: PyYAML in /Users/israelmiller/opt/anaconda3/lib/python3.9/site-packages (from optuna>=2.7.0->mljar-supervised) (6.0)\n",
      "Requirement already satisfied: cmaes>=0.8.2 in /Users/israelmiller/opt/anaconda3/lib/python3.9/site-packages (from optuna>=2.7.0->mljar-supervised) (0.9.0)\n",
      "Requirement already satisfied: tqdm in /Users/israelmiller/opt/anaconda3/lib/python3.9/site-packages (from optuna>=2.7.0->mljar-supervised) (4.64.0)\n",
      "Requirement already satisfied: cliff in /Users/israelmiller/opt/anaconda3/lib/python3.9/site-packages (from optuna>=2.7.0->mljar-supervised) (4.0.0)\n",
      "Requirement already satisfied: importlib-metadata<5.0.0 in /Users/israelmiller/opt/anaconda3/lib/python3.9/site-packages (from optuna>=2.7.0->mljar-supervised) (4.11.3)\n",
      "Requirement already satisfied: alembic>=1.5.0 in /Users/israelmiller/opt/anaconda3/lib/python3.9/site-packages (from optuna>=2.7.0->mljar-supervised) (1.8.1)\n",
      "Requirement already satisfied: sqlalchemy>=1.3.0 in /Users/israelmiller/opt/anaconda3/lib/python3.9/site-packages (from optuna>=2.7.0->mljar-supervised) (1.4.32)\n",
      "Requirement already satisfied: pytz>=2020.1 in /Users/israelmiller/opt/anaconda3/lib/python3.9/site-packages (from pandas>=1.2.0->mljar-supervised) (2021.3)\n",
      "Requirement already satisfied: threadpoolctl>=2.0.0 in /Users/israelmiller/opt/anaconda3/lib/python3.9/site-packages (from scikit-learn>=1.0->mljar-supervised) (2.2.0)\n",
      "Requirement already satisfied: numba in /Users/israelmiller/opt/anaconda3/lib/python3.9/site-packages (from shap>=0.36.0->mljar-supervised) (0.55.1)\n",
      "Requirement already satisfied: slicer==0.0.7 in /Users/israelmiller/opt/anaconda3/lib/python3.9/site-packages (from shap>=0.36.0->mljar-supervised) (0.0.7)\n",
      "Requirement already satisfied: cloudpickle in /Users/israelmiller/opt/anaconda3/lib/python3.9/site-packages (from shap>=0.36.0->mljar-supervised) (2.0.0)\n",
      "Requirement already satisfied: Mako in /Users/israelmiller/opt/anaconda3/lib/python3.9/site-packages (from alembic>=1.5.0->optuna>=2.7.0->mljar-supervised) (1.2.3)\n",
      "Requirement already satisfied: zipp>=0.5 in /Users/israelmiller/opt/anaconda3/lib/python3.9/site-packages (from importlib-metadata<5.0.0->optuna>=2.7.0->mljar-supervised) (3.7.0)\n",
      "Requirement already satisfied: greenlet!=0.4.17 in /Users/israelmiller/opt/anaconda3/lib/python3.9/site-packages (from sqlalchemy>=1.3.0->optuna>=2.7.0->mljar-supervised) (1.1.1)\n",
      "Requirement already satisfied: PrettyTable>=0.7.2 in /Users/israelmiller/opt/anaconda3/lib/python3.9/site-packages (from cliff->optuna>=2.7.0->mljar-supervised) (3.5.0)\n",
      "Requirement already satisfied: stevedore>=2.0.1 in /Users/israelmiller/opt/anaconda3/lib/python3.9/site-packages (from cliff->optuna>=2.7.0->mljar-supervised) (4.1.1)\n",
      "Requirement already satisfied: cmd2>=1.0.0 in /Users/israelmiller/opt/anaconda3/lib/python3.9/site-packages (from cliff->optuna>=2.7.0->mljar-supervised) (2.4.2)\n",
      "Requirement already satisfied: autopage>=0.4.0 in /Users/israelmiller/opt/anaconda3/lib/python3.9/site-packages (from cliff->optuna>=2.7.0->mljar-supervised) (0.5.1)\n",
      "Requirement already satisfied: setuptools in /Users/israelmiller/opt/anaconda3/lib/python3.9/site-packages (from numba->shap>=0.36.0->mljar-supervised) (61.2.0)\n",
      "Requirement already satisfied: llvmlite<0.39,>=0.38.0rc1 in /Users/israelmiller/opt/anaconda3/lib/python3.9/site-packages (from numba->shap>=0.36.0->mljar-supervised) (0.38.0)\n",
      "Requirement already satisfied: tenacity>=6.2.0 in /Users/israelmiller/opt/anaconda3/lib/python3.9/site-packages (from plotly->catboost>=0.24.4->mljar-supervised) (8.0.1)\n",
      "Requirement already satisfied: attrs>=19.2.0 in /Users/israelmiller/opt/anaconda3/lib/python3.9/site-packages (from pytest->dtreeviz>=1.3.3->mljar-supervised) (21.4.0)\n",
      "Requirement already satisfied: iniconfig in /Users/israelmiller/opt/anaconda3/lib/python3.9/site-packages (from pytest->dtreeviz>=1.3.3->mljar-supervised) (1.1.1)\n",
      "Requirement already satisfied: pluggy<2.0,>=0.12 in /Users/israelmiller/opt/anaconda3/lib/python3.9/site-packages (from pytest->dtreeviz>=1.3.3->mljar-supervised) (1.0.0)\n",
      "Requirement already satisfied: py>=1.8.2 in /Users/israelmiller/opt/anaconda3/lib/python3.9/site-packages (from pytest->dtreeviz>=1.3.3->mljar-supervised) (1.11.0)\n",
      "Requirement already satisfied: tomli>=1.0.0 in /Users/israelmiller/opt/anaconda3/lib/python3.9/site-packages (from pytest->dtreeviz>=1.3.3->mljar-supervised) (1.2.2)\n",
      "Requirement already satisfied: pyperclip>=1.6 in /Users/israelmiller/opt/anaconda3/lib/python3.9/site-packages (from cmd2>=1.0.0->cliff->optuna>=2.7.0->mljar-supervised) (1.8.2)\n",
      "Requirement already satisfied: wcwidth>=0.1.7 in /Users/israelmiller/opt/anaconda3/lib/python3.9/site-packages (from cmd2>=1.0.0->cliff->optuna>=2.7.0->mljar-supervised) (0.2.5)\n",
      "Requirement already satisfied: pbr!=2.1.0,>=2.0.0 in /Users/israelmiller/opt/anaconda3/lib/python3.9/site-packages (from stevedore>=2.0.1->cliff->optuna>=2.7.0->mljar-supervised) (5.11.0)\n",
      "Requirement already satisfied: MarkupSafe>=0.9.2 in /Users/israelmiller/opt/anaconda3/lib/python3.9/site-packages (from Mako->alembic>=1.5.0->optuna>=2.7.0->mljar-supervised) (2.0.1)\n"
     ]
    }
   ],
   "source": [
    "#install autoML jar\n",
    "!pip install tpot \n",
    "!pip install mljar-supervised"
   ]
  },
  {
   "cell_type": "code",
   "execution_count": 2,
   "metadata": {},
   "outputs": [
    {
     "ename": "OSError",
     "evalue": "dlopen(/Users/israelmiller/opt/anaconda3/lib/python3.9/site-packages/lightgbm/lib_lightgbm.so, 0x0006): Library not loaded: /usr/local/opt/libomp/lib/libomp.dylib\n  Referenced from: <8DF2AF67-B85F-3F67-B687-E50A514307EC> /Users/israelmiller/opt/anaconda3/lib/python3.9/site-packages/lightgbm/lib_lightgbm.so\n  Reason: tried: '/usr/local/opt/libomp/lib/libomp.dylib' (no such file), '/System/Volumes/Preboot/Cryptexes/OS/usr/local/opt/libomp/lib/libomp.dylib' (no such file), '/usr/local/opt/libomp/lib/libomp.dylib' (no such file), '/usr/local/lib/libomp.dylib' (no such file), '/usr/lib/libomp.dylib' (no such file, not in dyld cache)",
     "output_type": "error",
     "traceback": [
      "\u001b[0;31m---------------------------------------------------------------------------\u001b[0m",
      "\u001b[0;31mOSError\u001b[0m                                   Traceback (most recent call last)",
      "\u001b[1;32m/Users/israelmiller/Israel/School/SBU/MS Fall 2022/HHA 507/AutoML-examples/automl.ipynb Cell 2\u001b[0m in \u001b[0;36m<cell line: 4>\u001b[0;34m()\u001b[0m\n\u001b[1;32m      <a href='vscode-notebook-cell:/Users/israelmiller/Israel/School/SBU/MS%20Fall%202022/HHA%20507/AutoML-examples/automl.ipynb#W1sZmlsZQ%3D%3D?line=1'>2</a>\u001b[0m \u001b[39mfrom\u001b[39;00m \u001b[39msklearn\u001b[39;00m\u001b[39m.\u001b[39;00m\u001b[39mmetrics\u001b[39;00m \u001b[39mimport\u001b[39;00m accuracy_score\n\u001b[1;32m      <a href='vscode-notebook-cell:/Users/israelmiller/Israel/School/SBU/MS%20Fall%202022/HHA%20507/AutoML-examples/automl.ipynb#W1sZmlsZQ%3D%3D?line=2'>3</a>\u001b[0m \u001b[39mfrom\u001b[39;00m \u001b[39msklearn\u001b[39;00m\u001b[39m.\u001b[39;00m\u001b[39mmodel_selection\u001b[39;00m \u001b[39mimport\u001b[39;00m train_test_split\n\u001b[0;32m----> <a href='vscode-notebook-cell:/Users/israelmiller/Israel/School/SBU/MS%20Fall%202022/HHA%20507/AutoML-examples/automl.ipynb#W1sZmlsZQ%3D%3D?line=3'>4</a>\u001b[0m \u001b[39mfrom\u001b[39;00m \u001b[39msupervised\u001b[39;00m\u001b[39m.\u001b[39;00m\u001b[39mautoml\u001b[39;00m \u001b[39mimport\u001b[39;00m AutoML\n",
      "File \u001b[0;32m~/opt/anaconda3/lib/python3.9/site-packages/supervised/__init__.py:3\u001b[0m, in \u001b[0;36m<module>\u001b[0;34m\u001b[0m\n\u001b[1;32m      1\u001b[0m __version__ \u001b[39m=\u001b[39m \u001b[39m\"\u001b[39m\u001b[39m0.11.3\u001b[39m\u001b[39m\"\u001b[39m\n\u001b[0;32m----> 3\u001b[0m \u001b[39mfrom\u001b[39;00m \u001b[39msupervised\u001b[39;00m\u001b[39m.\u001b[39;00m\u001b[39mautoml\u001b[39;00m \u001b[39mimport\u001b[39;00m AutoML\n",
      "File \u001b[0;32m~/opt/anaconda3/lib/python3.9/site-packages/supervised/automl.py:2\u001b[0m, in \u001b[0;36m<module>\u001b[0;34m\u001b[0m\n\u001b[1;32m      1\u001b[0m \u001b[39mimport\u001b[39;00m \u001b[39mlogging\u001b[39;00m\n\u001b[0;32m----> 2\u001b[0m \u001b[39mfrom\u001b[39;00m \u001b[39msupervised\u001b[39;00m\u001b[39m.\u001b[39;00m\u001b[39mbase_automl\u001b[39;00m \u001b[39mimport\u001b[39;00m BaseAutoML\n\u001b[1;32m      3\u001b[0m \u001b[39mfrom\u001b[39;00m \u001b[39msupervised\u001b[39;00m\u001b[39m.\u001b[39;00m\u001b[39mutils\u001b[39;00m\u001b[39m.\u001b[39;00m\u001b[39mconfig\u001b[39;00m \u001b[39mimport\u001b[39;00m LOG_LEVEL\n\u001b[1;32m      5\u001b[0m \u001b[39m# libraries for type hints\u001b[39;00m\n",
      "File \u001b[0;32m~/opt/anaconda3/lib/python3.9/site-packages/supervised/base_automl.py:21\u001b[0m, in \u001b[0;36m<module>\u001b[0;34m\u001b[0m\n\u001b[1;32m     18\u001b[0m \u001b[39mfrom\u001b[39;00m \u001b[39msklearn\u001b[39;00m\u001b[39m.\u001b[39;00m\u001b[39mutils\u001b[39;00m\u001b[39m.\u001b[39;00m\u001b[39mvalidation\u001b[39;00m \u001b[39mimport\u001b[39;00m check_array\n\u001b[1;32m     19\u001b[0m \u001b[39mfrom\u001b[39;00m \u001b[39msklearn\u001b[39;00m\u001b[39m.\u001b[39;00m\u001b[39mmetrics\u001b[39;00m \u001b[39mimport\u001b[39;00m r2_score, accuracy_score\n\u001b[0;32m---> 21\u001b[0m \u001b[39mfrom\u001b[39;00m \u001b[39msupervised\u001b[39;00m\u001b[39m.\u001b[39;00m\u001b[39malgorithms\u001b[39;00m\u001b[39m.\u001b[39;00m\u001b[39mregistry\u001b[39;00m \u001b[39mimport\u001b[39;00m AlgorithmsRegistry\n\u001b[1;32m     22\u001b[0m \u001b[39mfrom\u001b[39;00m \u001b[39msupervised\u001b[39;00m\u001b[39m.\u001b[39;00m\u001b[39malgorithms\u001b[39;00m\u001b[39m.\u001b[39;00m\u001b[39mregistry\u001b[39;00m \u001b[39mimport\u001b[39;00m BINARY_CLASSIFICATION\n\u001b[1;32m     23\u001b[0m \u001b[39mfrom\u001b[39;00m \u001b[39msupervised\u001b[39;00m\u001b[39m.\u001b[39;00m\u001b[39malgorithms\u001b[39;00m\u001b[39m.\u001b[39;00m\u001b[39mregistry\u001b[39;00m \u001b[39mimport\u001b[39;00m MULTICLASS_CLASSIFICATION\n",
      "File \u001b[0;32m~/opt/anaconda3/lib/python3.9/site-packages/supervised/algorithms/registry.py:74\u001b[0m, in \u001b[0;36m<module>\u001b[0;34m\u001b[0m\n\u001b[1;32m     72\u001b[0m \u001b[39mimport\u001b[39;00m \u001b[39msupervised\u001b[39;00m\u001b[39m.\u001b[39;00m\u001b[39malgorithms\u001b[39;00m\u001b[39m.\u001b[39;00m\u001b[39mdecision_tree\u001b[39;00m\n\u001b[1;32m     73\u001b[0m \u001b[39mimport\u001b[39;00m \u001b[39msupervised\u001b[39;00m\u001b[39m.\u001b[39;00m\u001b[39malgorithms\u001b[39;00m\u001b[39m.\u001b[39;00m\u001b[39mbaseline\u001b[39;00m\n\u001b[0;32m---> 74\u001b[0m \u001b[39mimport\u001b[39;00m \u001b[39msupervised\u001b[39;00m\u001b[39m.\u001b[39;00m\u001b[39malgorithms\u001b[39;00m\u001b[39m.\u001b[39;00m\u001b[39mlightgbm\u001b[39;00m\n\u001b[1;32m     75\u001b[0m \u001b[39mimport\u001b[39;00m \u001b[39msupervised\u001b[39;00m\u001b[39m.\u001b[39;00m\u001b[39malgorithms\u001b[39;00m\u001b[39m.\u001b[39;00m\u001b[39mextra_trees\u001b[39;00m\n\u001b[1;32m     76\u001b[0m \u001b[39mimport\u001b[39;00m \u001b[39msupervised\u001b[39;00m\u001b[39m.\u001b[39;00m\u001b[39malgorithms\u001b[39;00m\u001b[39m.\u001b[39;00m\u001b[39mcatboost\u001b[39;00m\n",
      "File \u001b[0;32m~/opt/anaconda3/lib/python3.9/site-packages/supervised/algorithms/lightgbm.py:8\u001b[0m, in \u001b[0;36m<module>\u001b[0;34m\u001b[0m\n\u001b[1;32m      6\u001b[0m \u001b[39mimport\u001b[39;00m \u001b[39mos\u001b[39;00m\n\u001b[1;32m      7\u001b[0m \u001b[39mimport\u001b[39;00m \u001b[39mcontextlib\u001b[39;00m\n\u001b[0;32m----> 8\u001b[0m \u001b[39mimport\u001b[39;00m \u001b[39mlightgbm\u001b[39;00m \u001b[39mas\u001b[39;00m \u001b[39mlgb\u001b[39;00m\n\u001b[1;32m     10\u001b[0m \u001b[39mfrom\u001b[39;00m \u001b[39msupervised\u001b[39;00m\u001b[39m.\u001b[39;00m\u001b[39malgorithms\u001b[39;00m\u001b[39m.\u001b[39;00m\u001b[39malgorithm\u001b[39;00m \u001b[39mimport\u001b[39;00m BaseAlgorithm\n\u001b[1;32m     11\u001b[0m \u001b[39mfrom\u001b[39;00m \u001b[39msupervised\u001b[39;00m\u001b[39m.\u001b[39;00m\u001b[39malgorithms\u001b[39;00m\u001b[39m.\u001b[39;00m\u001b[39mregistry\u001b[39;00m \u001b[39mimport\u001b[39;00m AlgorithmsRegistry\n",
      "File \u001b[0;32m~/opt/anaconda3/lib/python3.9/site-packages/lightgbm/__init__.py:8\u001b[0m, in \u001b[0;36m<module>\u001b[0;34m\u001b[0m\n\u001b[1;32m      2\u001b[0m \u001b[39m\"\"\"LightGBM, Light Gradient Boosting Machine.\u001b[39;00m\n\u001b[1;32m      3\u001b[0m \n\u001b[1;32m      4\u001b[0m \u001b[39mContributors: https://github.com/microsoft/LightGBM/graphs/contributors.\u001b[39;00m\n\u001b[1;32m      5\u001b[0m \u001b[39m\"\"\"\u001b[39;00m\n\u001b[1;32m      6\u001b[0m \u001b[39mfrom\u001b[39;00m \u001b[39mpathlib\u001b[39;00m \u001b[39mimport\u001b[39;00m Path\n\u001b[0;32m----> 8\u001b[0m \u001b[39mfrom\u001b[39;00m \u001b[39m.\u001b[39;00m\u001b[39mbasic\u001b[39;00m \u001b[39mimport\u001b[39;00m Booster, Dataset, Sequence, register_logger\n\u001b[1;32m      9\u001b[0m \u001b[39mfrom\u001b[39;00m \u001b[39m.\u001b[39;00m\u001b[39mcallback\u001b[39;00m \u001b[39mimport\u001b[39;00m early_stopping, log_evaluation, print_evaluation, record_evaluation, reset_parameter\n\u001b[1;32m     10\u001b[0m \u001b[39mfrom\u001b[39;00m \u001b[39m.\u001b[39;00m\u001b[39mengine\u001b[39;00m \u001b[39mimport\u001b[39;00m CVBooster, cv, train\n",
      "File \u001b[0;32m~/opt/anaconda3/lib/python3.9/site-packages/lightgbm/basic.py:110\u001b[0m, in \u001b[0;36m<module>\u001b[0;34m\u001b[0m\n\u001b[1;32m    106\u001b[0m         \u001b[39mraise\u001b[39;00m LightGBMError(lib\u001b[39m.\u001b[39mLGBM_GetLastError()\u001b[39m.\u001b[39mdecode(\u001b[39m'\u001b[39m\u001b[39mutf-8\u001b[39m\u001b[39m'\u001b[39m))\n\u001b[1;32m    107\u001b[0m     \u001b[39mreturn\u001b[39;00m lib\n\u001b[0;32m--> 110\u001b[0m _LIB \u001b[39m=\u001b[39m _load_lib()\n\u001b[1;32m    113\u001b[0m NUMERIC_TYPES \u001b[39m=\u001b[39m (\u001b[39mint\u001b[39m, \u001b[39mfloat\u001b[39m, \u001b[39mbool\u001b[39m)\n\u001b[1;32m    116\u001b[0m \u001b[39mdef\u001b[39;00m \u001b[39m_safe_call\u001b[39m(ret: \u001b[39mint\u001b[39m) \u001b[39m-\u001b[39m\u001b[39m>\u001b[39m \u001b[39mNone\u001b[39;00m:\n",
      "File \u001b[0;32m~/opt/anaconda3/lib/python3.9/site-packages/lightgbm/basic.py:101\u001b[0m, in \u001b[0;36m_load_lib\u001b[0;34m()\u001b[0m\n\u001b[1;32m     99\u001b[0m \u001b[39mif\u001b[39;00m \u001b[39mlen\u001b[39m(lib_path) \u001b[39m==\u001b[39m \u001b[39m0\u001b[39m:\n\u001b[1;32m    100\u001b[0m     \u001b[39mreturn\u001b[39;00m \u001b[39mNone\u001b[39;00m\n\u001b[0;32m--> 101\u001b[0m lib \u001b[39m=\u001b[39m ctypes\u001b[39m.\u001b[39;49mcdll\u001b[39m.\u001b[39;49mLoadLibrary(lib_path[\u001b[39m0\u001b[39;49m])\n\u001b[1;32m    102\u001b[0m lib\u001b[39m.\u001b[39mLGBM_GetLastError\u001b[39m.\u001b[39mrestype \u001b[39m=\u001b[39m ctypes\u001b[39m.\u001b[39mc_char_p\n\u001b[1;32m    103\u001b[0m callback \u001b[39m=\u001b[39m ctypes\u001b[39m.\u001b[39mCFUNCTYPE(\u001b[39mNone\u001b[39;00m, ctypes\u001b[39m.\u001b[39mc_char_p)\n",
      "File \u001b[0;32m~/opt/anaconda3/lib/python3.9/ctypes/__init__.py:460\u001b[0m, in \u001b[0;36mLibraryLoader.LoadLibrary\u001b[0;34m(self, name)\u001b[0m\n\u001b[1;32m    459\u001b[0m \u001b[39mdef\u001b[39;00m \u001b[39mLoadLibrary\u001b[39m(\u001b[39mself\u001b[39m, name):\n\u001b[0;32m--> 460\u001b[0m     \u001b[39mreturn\u001b[39;00m \u001b[39mself\u001b[39;49m\u001b[39m.\u001b[39;49m_dlltype(name)\n",
      "File \u001b[0;32m~/opt/anaconda3/lib/python3.9/ctypes/__init__.py:382\u001b[0m, in \u001b[0;36mCDLL.__init__\u001b[0;34m(self, name, mode, handle, use_errno, use_last_error, winmode)\u001b[0m\n\u001b[1;32m    379\u001b[0m \u001b[39mself\u001b[39m\u001b[39m.\u001b[39m_FuncPtr \u001b[39m=\u001b[39m _FuncPtr\n\u001b[1;32m    381\u001b[0m \u001b[39mif\u001b[39;00m handle \u001b[39mis\u001b[39;00m \u001b[39mNone\u001b[39;00m:\n\u001b[0;32m--> 382\u001b[0m     \u001b[39mself\u001b[39m\u001b[39m.\u001b[39m_handle \u001b[39m=\u001b[39m _dlopen(\u001b[39mself\u001b[39;49m\u001b[39m.\u001b[39;49m_name, mode)\n\u001b[1;32m    383\u001b[0m \u001b[39melse\u001b[39;00m:\n\u001b[1;32m    384\u001b[0m     \u001b[39mself\u001b[39m\u001b[39m.\u001b[39m_handle \u001b[39m=\u001b[39m handle\n",
      "\u001b[0;31mOSError\u001b[0m: dlopen(/Users/israelmiller/opt/anaconda3/lib/python3.9/site-packages/lightgbm/lib_lightgbm.so, 0x0006): Library not loaded: /usr/local/opt/libomp/lib/libomp.dylib\n  Referenced from: <8DF2AF67-B85F-3F67-B687-E50A514307EC> /Users/israelmiller/opt/anaconda3/lib/python3.9/site-packages/lightgbm/lib_lightgbm.so\n  Reason: tried: '/usr/local/opt/libomp/lib/libomp.dylib' (no such file), '/System/Volumes/Preboot/Cryptexes/OS/usr/local/opt/libomp/lib/libomp.dylib' (no such file), '/usr/local/opt/libomp/lib/libomp.dylib' (no such file), '/usr/local/lib/libomp.dylib' (no such file), '/usr/lib/libomp.dylib' (no such file, not in dyld cache)"
     ]
    }
   ],
   "source": [
    "#import libraries\n",
    "import pandas as pd\n",
    "from sklearn.metrics import accuracy_score\n",
    "from sklearn.model_selection import train_test_split\n",
    "import tpot as tp\n",
    "from supervised.automl import AutoML"
   ]
  },
  {
   "cell_type": "code",
   "execution_count": null,
   "metadata": {},
   "outputs": [],
   "source": []
  }
 ],
 "metadata": {
  "kernelspec": {
   "display_name": "Python 3.9.12 ('base')",
   "language": "python",
   "name": "python3"
  },
  "language_info": {
   "codemirror_mode": {
    "name": "ipython",
    "version": 3
   },
   "file_extension": ".py",
   "mimetype": "text/x-python",
   "name": "python",
   "nbconvert_exporter": "python",
   "pygments_lexer": "ipython3",
   "version": "3.9.12"
  },
  "orig_nbformat": 4,
  "vscode": {
   "interpreter": {
    "hash": "2426c27b3d4358b4854808f4ee0ce0f5f1fa773e1ec013bafb32e978441c4793"
   }
  }
 },
 "nbformat": 4,
 "nbformat_minor": 2
}
